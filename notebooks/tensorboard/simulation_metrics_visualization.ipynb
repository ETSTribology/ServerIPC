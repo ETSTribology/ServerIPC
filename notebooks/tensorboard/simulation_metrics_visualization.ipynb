{
 "cells": [
  {
   "cell_type": "markdown",
   "metadata": {},
   "source": [
    "# Simulation Metrics Visualization\n",
    "\n",
    "This notebook demonstrates advanced TensorBoard visualization techniques for computational simulation metrics."
   ]
  },
  {
   "cell_type": "code",
   "execution_count": 4,
   "metadata": {},
   "outputs": [
    {
     "ename": "ModuleNotFoundError",
     "evalue": "No module named 'tensorflow'",
     "output_type": "error",
     "traceback": [
      "\u001b[1;31m---------------------------------------------------------------------------\u001b[0m",
      "\u001b[1;31mModuleNotFoundError\u001b[0m                       Traceback (most recent call last)",
      "Cell \u001b[1;32mIn[4], line 8\u001b[0m\n\u001b[0;32m      6\u001b[0m \u001b[38;5;28;01mimport\u001b[39;00m \u001b[38;5;21;01mtorch\u001b[39;00m\n\u001b[0;32m      7\u001b[0m \u001b[38;5;28;01mfrom\u001b[39;00m \u001b[38;5;21;01mtorch\u001b[39;00m\u001b[38;5;21;01m.\u001b[39;00m\u001b[38;5;21;01mutils\u001b[39;00m\u001b[38;5;21;01m.\u001b[39;00m\u001b[38;5;21;01mtensorboard\u001b[39;00m \u001b[38;5;28;01mimport\u001b[39;00m SummaryWriter\n\u001b[1;32m----> 8\u001b[0m \u001b[38;5;28;01mimport\u001b[39;00m \u001b[38;5;21;01mtensorflow\u001b[39;00m \u001b[38;5;28;01mas\u001b[39;00m \u001b[38;5;21;01mtf\u001b[39;00m\n\u001b[0;32m      9\u001b[0m \u001b[38;5;28;01mfrom\u001b[39;00m \u001b[38;5;21;01mtensorboard\u001b[39;00m \u001b[38;5;28;01mimport\u001b[39;00m main \u001b[38;5;28;01mas\u001b[39;00m tb\n\u001b[0;32m     10\u001b[0m \u001b[38;5;28;01mimport\u001b[39;00m \u001b[38;5;21;01mmatplotlib\u001b[39;00m\u001b[38;5;21;01m.\u001b[39;00m\u001b[38;5;21;01mpyplot\u001b[39;00m \u001b[38;5;28;01mas\u001b[39;00m \u001b[38;5;21;01mplt\u001b[39;00m\n",
      "\u001b[1;31mModuleNotFoundError\u001b[0m: No module named 'tensorflow'"
     ]
    }
   ],
   "source": [
    "# Workaround for protobuf compatibility\n",
    "import os\n",
    "os.environ['PROTOCOL_BUFFERS_PYTHON_IMPLEMENTATION'] = 'python'\n",
    "\n",
    "import numpy as np\n",
    "import torch\n",
    "from torch.utils.tensorboard import SummaryWriter\n",
    "import matplotlib.pyplot as plt"
   ]
  },
  {
   "cell_type": "code",
   "execution_count": 5,
   "metadata": {},
   "outputs": [],
   "source": [
    "# Simulation Metrics Simulation Class\n",
    "class SimulationMetricsSimulator:\n",
    "    def __init__(self, writer, num_simulations=10, timesteps=100):\n",
    "        self.writer = writer\n",
    "        self.num_simulations = num_simulations\n",
    "        self.timesteps = timesteps\n",
    "    \n",
    "    def generate_deformation_metrics(self):\n",
    "        for sim in range(self.num_simulations):\n",
    "            # Simulate material deformation metrics\n",
    "            strain_energy = np.cumsum(np.random.normal(0.5, 0.1, self.timesteps))\n",
    "            stress_tensor = np.random.normal(0, 1, (self.timesteps, 3, 3))\n",
    "            displacement = np.cumsum(np.random.normal(0, 0.01, (self.timesteps, 3)), axis=0)\n",
    "            \n",
    "            # Log scalar metrics\n",
    "            for t in range(self.timesteps):\n",
    "                self.writer.add_scalar(f'Simulation_{sim}/Strain_Energy', strain_energy[t], t)\n",
    "                self.writer.add_scalar(f'Simulation_{sim}/Max_Displacement', np.max(np.abs(displacement[t])), t)\n",
    "                \n",
    "                # Log stress tensor as a 3D surface\n",
    "                fig, ax = plt.subplots(figsize=(5, 4))\n",
    "                im = ax.imshow(stress_tensor[t], cmap='coolwarm', interpolation='nearest')\n",
    "                plt.colorbar(im)\n",
    "                plt.title(f'Stress Tensor at Timestep {t}')\n",
    "                self.writer.add_figure(f'Simulation_{sim}/Stress_Tensor', fig, t)\n",
    "                plt.close(fig)\n",
    "            \n",
    "            # Log displacement as a 3D histogram\n",
    "            self.writer.add_histogram(f'Simulation_{sim}/Displacement_Distribution', displacement, sim)"
   ]
  },
  {
   "cell_type": "code",
   "execution_count": 6,
   "metadata": {},
   "outputs": [],
   "source": [
    "# Create TensorBoard SummaryWriter\n",
    "writer = SummaryWriter('../tensorboard_logs/simulation_metrics')"
   ]
  },
  {
   "cell_type": "code",
   "execution_count": 7,
   "metadata": {},
   "outputs": [
    {
     "name": "stdout",
     "output_type": "stream",
     "text": [
      "Simulation metrics logged to TensorBoard. Run: tensorboard --logdir=../tensorboard_logs/simulation_metrics\n"
     ]
    }
   ],
   "source": [
    "# Run simulation metrics generation\n",
    "simulator = SimulationMetricsSimulator(writer, num_simulations=5, timesteps=200)\n",
    "simulator.generate_deformation_metrics()\n",
    "\n",
    "# Close the writer\n",
    "writer.close()\n",
    "\n",
    "print('Simulation metrics logged to TensorBoard. Run: tensorboard --logdir=../tensorboard_logs/simulation_metrics')"
   ]
  },
  {
   "cell_type": "code",
   "execution_count": null,
   "metadata": {},
   "outputs": [],
   "source": []
  }
 ],
 "metadata": {
  "kernelspec": {
   "display_name": "Python 3",
   "language": "python",
   "name": "python3"
  },
  "language_info": {
   "codemirror_mode": {
    "name": "ipython",
    "version": 3
   },
   "file_extension": ".py",
   "mimetype": "text/x-python",
   "name": "python",
   "nbconvert_exporter": "python",
   "pygments_lexer": "ipython3",
   "version": "3.12.7"
  }
 },
 "nbformat": 4,
 "nbformat_minor": 4
}
