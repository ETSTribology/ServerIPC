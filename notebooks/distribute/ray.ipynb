{
 "cells": [
  {
   "cell_type": "code",
   "execution_count": 7,
   "metadata": {},
   "outputs": [
    {
     "name": "stdout",
     "output_type": "stream",
     "text": [
      "Defaulting to user installation because normal site-packages is not writeable\n",
      "Collecting ray\n",
      "  Downloading ray-2.39.0-cp312-cp312-win_amd64.whl.metadata (18 kB)\n",
      "Collecting click>=7.0 (from ray)\n",
      "  Downloading click-8.1.7-py3-none-any.whl.metadata (3.0 kB)\n",
      "Collecting filelock (from ray)\n",
      "  Downloading filelock-3.16.1-py3-none-any.whl.metadata (2.9 kB)\n",
      "Collecting jsonschema (from ray)\n",
      "  Downloading jsonschema-4.23.0-py3-none-any.whl.metadata (7.9 kB)\n",
      "Requirement already satisfied: msgpack<2.0.0,>=1.0.0 in c:\\users\\ap07080\\appdata\\local\\packages\\pythonsoftwarefoundation.python.3.12_qbz5n2kfra8p0\\localcache\\local-packages\\python312\\site-packages (from ray) (1.1.0)\n",
      "Requirement already satisfied: packaging in c:\\users\\ap07080\\appdata\\local\\packages\\pythonsoftwarefoundation.python.3.12_qbz5n2kfra8p0\\localcache\\local-packages\\python312\\site-packages (from ray) (24.1)\n",
      "Collecting protobuf!=3.19.5,>=3.15.3 (from ray)\n",
      "  Using cached protobuf-5.29.0-cp310-abi3-win_amd64.whl.metadata (592 bytes)\n",
      "Collecting pyyaml (from ray)\n",
      "  Downloading PyYAML-6.0.2-cp312-cp312-win_amd64.whl.metadata (2.1 kB)\n",
      "Requirement already satisfied: aiosignal in c:\\users\\ap07080\\appdata\\local\\packages\\pythonsoftwarefoundation.python.3.12_qbz5n2kfra8p0\\localcache\\local-packages\\python312\\site-packages (from ray) (1.3.1)\n",
      "Requirement already satisfied: frozenlist in c:\\users\\ap07080\\appdata\\local\\packages\\pythonsoftwarefoundation.python.3.12_qbz5n2kfra8p0\\localcache\\local-packages\\python312\\site-packages (from ray) (1.4.1)\n",
      "Requirement already satisfied: requests in c:\\users\\ap07080\\appdata\\local\\packages\\pythonsoftwarefoundation.python.3.12_qbz5n2kfra8p0\\localcache\\local-packages\\python312\\site-packages (from ray) (2.32.3)\n",
      "Requirement already satisfied: colorama in c:\\users\\ap07080\\appdata\\local\\packages\\pythonsoftwarefoundation.python.3.12_qbz5n2kfra8p0\\localcache\\local-packages\\python312\\site-packages (from click>=7.0->ray) (0.4.6)\n",
      "Requirement already satisfied: attrs>=22.2.0 in c:\\users\\ap07080\\appdata\\local\\packages\\pythonsoftwarefoundation.python.3.12_qbz5n2kfra8p0\\localcache\\local-packages\\python312\\site-packages (from jsonschema->ray) (24.2.0)\n",
      "Collecting jsonschema-specifications>=2023.03.6 (from jsonschema->ray)\n",
      "  Downloading jsonschema_specifications-2024.10.1-py3-none-any.whl.metadata (3.0 kB)\n",
      "Collecting referencing>=0.28.4 (from jsonschema->ray)\n",
      "  Downloading referencing-0.35.1-py3-none-any.whl.metadata (2.8 kB)\n",
      "Collecting rpds-py>=0.7.1 (from jsonschema->ray)\n",
      "  Downloading rpds_py-0.21.0-cp312-none-win_amd64.whl.metadata (4.2 kB)\n",
      "Requirement already satisfied: charset-normalizer<4,>=2 in c:\\users\\ap07080\\appdata\\local\\packages\\pythonsoftwarefoundation.python.3.12_qbz5n2kfra8p0\\localcache\\local-packages\\python312\\site-packages (from requests->ray) (3.3.2)\n",
      "Requirement already satisfied: idna<4,>=2.5 in c:\\users\\ap07080\\appdata\\local\\packages\\pythonsoftwarefoundation.python.3.12_qbz5n2kfra8p0\\localcache\\local-packages\\python312\\site-packages (from requests->ray) (3.8)\n",
      "Requirement already satisfied: urllib3<3,>=1.21.1 in c:\\users\\ap07080\\appdata\\local\\packages\\pythonsoftwarefoundation.python.3.12_qbz5n2kfra8p0\\localcache\\local-packages\\python312\\site-packages (from requests->ray) (2.2.3)\n",
      "Requirement already satisfied: certifi>=2017.4.17 in c:\\users\\ap07080\\appdata\\local\\packages\\pythonsoftwarefoundation.python.3.12_qbz5n2kfra8p0\\localcache\\local-packages\\python312\\site-packages (from requests->ray) (2024.8.30)\n",
      "Downloading ray-2.39.0-cp312-cp312-win_amd64.whl (25.1 MB)\n",
      "   ---------------------------------------- 0.0/25.1 MB ? eta -:--:--\n",
      "   ---------- ----------------------------- 6.8/25.1 MB 34.9 MB/s eta 0:00:01\n",
      "   ----------------------- ---------------- 14.4/25.1 MB 34.9 MB/s eta 0:00:01\n",
      "   ----------------------------------- ---- 22.3/25.1 MB 35.2 MB/s eta 0:00:01\n",
      "   ---------------------------------------- 25.1/25.1 MB 31.1 MB/s eta 0:00:00\n",
      "Downloading click-8.1.7-py3-none-any.whl (97 kB)\n",
      "Using cached protobuf-5.29.0-cp310-abi3-win_amd64.whl (434 kB)\n",
      "Downloading filelock-3.16.1-py3-none-any.whl (16 kB)\n",
      "Downloading jsonschema-4.23.0-py3-none-any.whl (88 kB)\n",
      "Downloading PyYAML-6.0.2-cp312-cp312-win_amd64.whl (156 kB)\n",
      "Downloading jsonschema_specifications-2024.10.1-py3-none-any.whl (18 kB)\n",
      "Downloading referencing-0.35.1-py3-none-any.whl (26 kB)\n",
      "Downloading rpds_py-0.21.0-cp312-none-win_amd64.whl (220 kB)\n",
      "Installing collected packages: rpds-py, pyyaml, protobuf, filelock, click, referencing, jsonschema-specifications, jsonschema, ray\n",
      "Successfully installed click-8.1.7 filelock-3.16.1 jsonschema-4.23.0 jsonschema-specifications-2024.10.1 protobuf-5.29.0 pyyaml-6.0.2 ray-2.39.0 referencing-0.35.1 rpds-py-0.21.0\n"
     ]
    },
    {
     "name": "stderr",
     "output_type": "stream",
     "text": [
      "\n",
      "[notice] A new release of pip is available: 24.2 -> 24.3.1\n",
      "[notice] To update, run: C:\\Users\\AP07080\\AppData\\Local\\Microsoft\\WindowsApps\\PythonSoftwareFoundation.Python.3.12_qbz5n2kfra8p0\\python.exe -m pip install --upgrade pip\n"
     ]
    }
   ],
   "source": [
    "!pip install ray"
   ]
  },
  {
   "cell_type": "code",
   "execution_count": 6,
   "metadata": {},
   "outputs": [
    {
     "ename": "ModuleNotFoundError",
     "evalue": "No module named 'ray'",
     "output_type": "error",
     "traceback": [
      "\u001b[1;31m---------------------------------------------------------------------------\u001b[0m",
      "\u001b[1;31mModuleNotFoundError\u001b[0m                       Traceback (most recent call last)",
      "Cell \u001b[1;32mIn[6], line 3\u001b[0m\n\u001b[0;32m      1\u001b[0m \u001b[38;5;28;01mimport\u001b[39;00m \u001b[38;5;21;01mos\u001b[39;00m\n\u001b[0;32m      2\u001b[0m \u001b[38;5;28;01mimport\u001b[39;00m \u001b[38;5;21;01mtime\u001b[39;00m\n\u001b[1;32m----> 3\u001b[0m \u001b[38;5;28;01mimport\u001b[39;00m \u001b[38;5;21;01mray\u001b[39;00m\n",
      "\u001b[1;31mModuleNotFoundError\u001b[0m: No module named 'ray'"
     ]
    }
   ],
   "source": [
    "import os\n",
    "import time\n",
    "import ray"
   ]
  },
  {
   "cell_type": "code",
   "execution_count": null,
   "metadata": {},
   "outputs": [],
   "source": [
    "ray.init()"
   ]
  },
  {
   "cell_type": "code",
   "execution_count": null,
   "metadata": {},
   "outputs": [],
   "source": [
    "def fibonacci_local(sequence_size):\n",
    "    fibonacci = []\n",
    "    for i in range(sequence_size):\n",
    "        if i < 2:\n",
    "            fibonacci.append(i)\n",
    "            continue\n",
    "        fibonacci.append(fibonacci[i-1] + fibonacci[i-2])\n",
    "    return sequence_size"
   ]
  },
  {
   "cell_type": "code",
   "execution_count": null,
   "metadata": {},
   "outputs": [],
   "source": [
    "@ray.remote\n",
    "def fibonacci_distributed(sequence_size):\n",
    "    fibonacci = []\n",
    "    for i in range(sequence_size):\n",
    "        if i < 2:\n",
    "            fibonacci.append(i)\n",
    "            continue\n",
    "        fibonacci.append(fibonacci[i-1] + fibonacci[i-2])\n",
    "    return sequence_size"
   ]
  },
  {
   "cell_type": "code",
   "execution_count": null,
   "metadata": {},
   "outputs": [],
   "source": [
    "# Number of CPUs\n",
    "num_cpus = os.cpu_count()\n",
    "print(f\"Number of CPUs available: {num_cpus}\")\n",
    "\n",
    "# Local execution\n",
    "def run_local(sequence_size):\n",
    "    start_time = time.time()\n",
    "    results = [fibonacci_local(sequence_size) for _ in range(num_cpus)]\n",
    "    duration = time.time() - start_time\n",
    "    print(f'Sequence size: {sequence_size}, Local execution time: {duration:.2f}s')\n",
    "\n",
    "# Remote execution with Ray\n",
    "def run_remote(sequence_size):\n",
    "    start_time = time.time()\n",
    "    results = ray.get([fibonacci_distributed.remote(sequence_size) for _ in range(num_cpus)])\n",
    "    duration = time.time() - start_time\n",
    "    print(f'Sequence size: {sequence_size}, Remote execution time: {duration:.2f}s')\n",
    "\n",
    "# Example with sequence_size = 100000\n",
    "sequence_size = 100000\n",
    "run_local(sequence_size)\n",
    "run_remote(sequence_size)"
   ]
  },
  {
   "cell_type": "code",
   "execution_count": null,
   "metadata": {},
   "outputs": [],
   "source": []
  },
  {
   "cell_type": "code",
   "execution_count": null,
   "metadata": {},
   "outputs": [],
   "source": []
  }
 ],
 "metadata": {
  "kernelspec": {
   "display_name": "Python 3",
   "language": "python",
   "name": "python3"
  },
  "language_info": {
   "codemirror_mode": {
    "name": "ipython",
    "version": 3
   },
   "file_extension": ".py",
   "mimetype": "text/x-python",
   "name": "python",
   "nbconvert_exporter": "python",
   "pygments_lexer": "ipython3",
   "version": "3.12.7"
  }
 },
 "nbformat": 4,
 "nbformat_minor": 2
}
