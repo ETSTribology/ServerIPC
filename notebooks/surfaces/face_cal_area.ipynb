{
 "cells": [
  {
   "cell_type": "code",
   "execution_count": 10,
   "metadata": {},
   "outputs": [
    {
     "name": "stdout",
     "output_type": "stream",
     "text": [
      "Requirement already satisfied: meshio in c:\\users\\ap07080\\appdata\\local\\miniconda3\\lib\\site-packages (5.3.5)\n",
      "Requirement already satisfied: polyscope in c:\\users\\ap07080\\appdata\\local\\miniconda3\\lib\\site-packages (2.2.1)\n",
      "Requirement already satisfied: numpy>=1.20.0 in c:\\users\\ap07080\\appdata\\local\\miniconda3\\lib\\site-packages (from meshio) (1.26.0)\n",
      "Requirement already satisfied: rich in c:\\users\\ap07080\\appdata\\local\\miniconda3\\lib\\site-packages (from meshio) (13.7.1)\n",
      "Requirement already satisfied: markdown-it-py>=2.2.0 in c:\\users\\ap07080\\appdata\\local\\miniconda3\\lib\\site-packages (from rich->meshio) (2.2.0)\n",
      "Requirement already satisfied: pygments<3.0.0,>=2.13.0 in c:\\users\\ap07080\\appdata\\local\\miniconda3\\lib\\site-packages (from rich->meshio) (2.15.1)\n",
      "Requirement already satisfied: mdurl~=0.1 in c:\\users\\ap07080\\appdata\\local\\miniconda3\\lib\\site-packages (from markdown-it-py>=2.2.0->rich->meshio) (0.1.0)\n"
     ]
    }
   ],
   "source": [
    "!pip install meshio polyscope"
   ]
  },
  {
   "cell_type": "code",
   "execution_count": 11,
   "metadata": {},
   "outputs": [],
   "source": [
    "import os\n",
    "from collections import Counter\n",
    "\n",
    "import meshio\n",
    "import numpy as np\n",
    "import polyscope as ps"
   ]
  },
  {
   "cell_type": "code",
   "execution_count": 12,
   "metadata": {},
   "outputs": [
    {
     "name": "stdout",
     "output_type": "stream",
     "text": [
      "\n"
     ]
    }
   ],
   "source": [
    "mesh = meshio.read(os.path.join(os.getcwd(), '../meshes/Cube.001.msh'))"
   ]
  },
  {
   "cell_type": "code",
   "execution_count": 15,
   "metadata": {},
   "outputs": [
    {
     "name": "stdout",
     "output_type": "stream",
     "text": [
      "Total surface faces: 1514\n",
      "First 10 Surface faces: [(9, 635, 712), (9, 635, 744), (16, 642, 722), (140, 164, 166), (61, 62, 65), (52, 53, 420), (269, 290, 291), (296, 299, 309), (230, 231, 234), (143, 169, 758)]\n"
     ]
    }
   ],
   "source": [
    "# Check if the mesh contains tetrahedral cells\n",
    "if \"tetra\" in mesh.cells_dict:\n",
    "    tetrahedra = mesh.cells_dict[\"tetra\"]\n",
    "\n",
    "    # Extract all faces from tetrahedra\n",
    "    all_faces = []\n",
    "    for tet in tetrahedra:\n",
    "        # Each tetrahedron has 4 faces\n",
    "        all_faces.extend([\n",
    "            tuple(sorted([tet[0], tet[1], tet[2]])),  # Face 1\n",
    "            tuple(sorted([tet[0], tet[1], tet[3]])),  # Face 2\n",
    "            tuple(sorted([tet[0], tet[2], tet[3]])),  # Face 3\n",
    "            tuple(sorted([tet[1], tet[2], tet[3]])),  # Face 4\n",
    "        ])\n",
    "\n",
    "    # Count the occurrences of each face\n",
    "    face_counts = Counter(all_faces)\n",
    "\n",
    "    # Surface faces are those that appear only once\n",
    "    surface_faces = [face for face, count in face_counts.items() if count == 1]\n",
    "\n",
    "    print(f\"Total surface faces: {len(surface_faces)}\")\n",
    "    # Optionally, print the first few surface faces to verify\n",
    "    print(\"First 10 Surface faces:\", surface_faces[:10])\n",
    "\n",
    "    # Initialize Polyscope\n",
    "    ps.init()\n",
    "\n",
    "    # Extract vertex positions\n",
    "    vertices = mesh.points\n",
    "\n",
    "    # Convert surface_faces to a NumPy array\n",
    "    surface_faces_array = np.array(surface_faces)\n",
    "\n",
    "    # Register the surface mesh with Polyscope\n",
    "    ps_mesh = ps.register_surface_mesh(\"Surface Mesh\", vertices, surface_faces_array)\n",
    "\n",
    "    # (Optional) Customize the appearance\n",
    "    ps_mesh.set_color([0.7, 0.7, 0.7])  # Set mesh color to light gray\n",
    "\n",
    "    # Show the Polyscope interface\n",
    "    ps.show()\n",
    "else:\n",
    "    print(\"The mesh does not contain tetrahedral cells.\")"
   ]
  },
  {
   "cell_type": "code",
   "execution_count": null,
   "metadata": {},
   "outputs": [],
   "source": []
  },
  {
   "cell_type": "code",
   "execution_count": null,
   "metadata": {},
   "outputs": [],
   "source": []
  },
  {
   "cell_type": "code",
   "execution_count": null,
   "metadata": {},
   "outputs": [],
   "source": []
  }
 ],
 "metadata": {
  "kernelspec": {
   "display_name": "base",
   "language": "python",
   "name": "python3"
  },
  "language_info": {
   "codemirror_mode": {
    "name": "ipython",
    "version": 3
   },
   "file_extension": ".py",
   "mimetype": "text/x-python",
   "name": "python",
   "nbconvert_exporter": "python",
   "pygments_lexer": "ipython3",
   "version": "3.12.3"
  }
 },
 "nbformat": 4,
 "nbformat_minor": 2
}
