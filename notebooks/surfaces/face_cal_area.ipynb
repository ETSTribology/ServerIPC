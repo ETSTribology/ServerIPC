{
 "cells": [
  {
   "cell_type": "code",
   "execution_count": 1,
   "metadata": {},
   "outputs": [
    {
     "name": "stdout",
     "output_type": "stream",
     "text": [
      "Defaulting to user installation because normal site-packages is not writeable\n",
      "Requirement already satisfied: meshio in c:\\users\\ap07080\\appdata\\local\\packages\\pythonsoftwarefoundation.python.3.12_qbz5n2kfra8p0\\localcache\\local-packages\\python312\\site-packages (5.3.5)\n",
      "Requirement already satisfied: polyscope in c:\\users\\ap07080\\appdata\\local\\packages\\pythonsoftwarefoundation.python.3.12_qbz5n2kfra8p0\\localcache\\local-packages\\python312\\site-packages (2.2.1)\n",
      "Requirement already satisfied: numpy>=1.20.0 in c:\\users\\ap07080\\appdata\\local\\packages\\pythonsoftwarefoundation.python.3.12_qbz5n2kfra8p0\\localcache\\local-packages\\python312\\site-packages (from meshio) (1.26.0)\n",
      "Requirement already satisfied: rich in c:\\users\\ap07080\\appdata\\local\\packages\\pythonsoftwarefoundation.python.3.12_qbz5n2kfra8p0\\localcache\\local-packages\\python312\\site-packages (from meshio) (13.8.1)\n",
      "Requirement already satisfied: markdown-it-py>=2.2.0 in c:\\users\\ap07080\\appdata\\local\\packages\\pythonsoftwarefoundation.python.3.12_qbz5n2kfra8p0\\localcache\\local-packages\\python312\\site-packages (from rich->meshio) (3.0.0)\n",
      "Requirement already satisfied: pygments<3.0.0,>=2.13.0 in c:\\users\\ap07080\\appdata\\local\\packages\\pythonsoftwarefoundation.python.3.12_qbz5n2kfra8p0\\localcache\\local-packages\\python312\\site-packages (from rich->meshio) (2.18.0)\n",
      "Requirement already satisfied: mdurl~=0.1 in c:\\users\\ap07080\\appdata\\local\\packages\\pythonsoftwarefoundation.python.3.12_qbz5n2kfra8p0\\localcache\\local-packages\\python312\\site-packages (from markdown-it-py>=2.2.0->rich->meshio) (0.1.2)\n"
     ]
    },
    {
     "name": "stderr",
     "output_type": "stream",
     "text": [
      "\n",
      "[notice] A new release of pip is available: 24.2 -> 24.3.1\n",
      "[notice] To update, run: C:\\Users\\AP07080\\AppData\\Local\\Microsoft\\WindowsApps\\PythonSoftwareFoundation.Python.3.12_qbz5n2kfra8p0\\python.exe -m pip install --upgrade pip\n"
     ]
    }
   ],
   "source": [
    "!pip install meshio polyscope"
   ]
  },
  {
   "cell_type": "code",
   "execution_count": 2,
   "metadata": {},
   "outputs": [],
   "source": [
    "import os\n",
    "from collections import Counter\n",
    "\n",
    "import meshio\n",
    "import numpy as np\n",
    "import polyscope as ps"
   ]
  },
  {
   "cell_type": "code",
   "execution_count": 3,
   "metadata": {},
   "outputs": [
    {
     "ename": "ReadError",
     "evalue": "File \\\\wsl.localhost\\Ubuntu-22.04\\home\\antoine\\ServerIPC\\notebooks\\surfaces\\..\\meshes\\Cube.001.msh not found.",
     "output_type": "error",
     "traceback": [
      "\u001b[1;31m---------------------------------------------------------------------------\u001b[0m",
      "\u001b[1;31mReadError\u001b[0m                                 Traceback (most recent call last)",
      "Cell \u001b[1;32mIn[3], line 1\u001b[0m\n\u001b[1;32m----> 1\u001b[0m mesh \u001b[38;5;241m=\u001b[39m \u001b[43mmeshio\u001b[49m\u001b[38;5;241;43m.\u001b[39;49m\u001b[43mread\u001b[49m\u001b[43m(\u001b[49m\u001b[43mos\u001b[49m\u001b[38;5;241;43m.\u001b[39;49m\u001b[43mpath\u001b[49m\u001b[38;5;241;43m.\u001b[39;49m\u001b[43mjoin\u001b[49m\u001b[43m(\u001b[49m\u001b[43mos\u001b[49m\u001b[38;5;241;43m.\u001b[39;49m\u001b[43mgetcwd\u001b[49m\u001b[43m(\u001b[49m\u001b[43m)\u001b[49m\u001b[43m,\u001b[49m\u001b[43m \u001b[49m\u001b[38;5;124;43m'\u001b[39;49m\u001b[38;5;124;43m../meshes/Cube.001.msh\u001b[39;49m\u001b[38;5;124;43m'\u001b[39;49m\u001b[43m)\u001b[49m\u001b[43m)\u001b[49m\n",
      "File \u001b[1;32m~\\AppData\\Local\\Packages\\PythonSoftwareFoundation.Python.3.12_qbz5n2kfra8p0\\LocalCache\\local-packages\\Python312\\site-packages\\meshio\\_helpers.py:71\u001b[0m, in \u001b[0;36mread\u001b[1;34m(filename, file_format)\u001b[0m\n\u001b[0;32m     68\u001b[0m \u001b[38;5;28;01mif\u001b[39;00m is_buffer(filename, \u001b[38;5;124m\"\u001b[39m\u001b[38;5;124mr\u001b[39m\u001b[38;5;124m\"\u001b[39m):\n\u001b[0;32m     69\u001b[0m     \u001b[38;5;28;01mreturn\u001b[39;00m _read_buffer(filename, file_format)\n\u001b[1;32m---> 71\u001b[0m \u001b[38;5;28;01mreturn\u001b[39;00m \u001b[43m_read_file\u001b[49m\u001b[43m(\u001b[49m\u001b[43mPath\u001b[49m\u001b[43m(\u001b[49m\u001b[43mfilename\u001b[49m\u001b[43m)\u001b[49m\u001b[43m,\u001b[49m\u001b[43m \u001b[49m\u001b[43mfile_format\u001b[49m\u001b[43m)\u001b[49m\n",
      "File \u001b[1;32m~\\AppData\\Local\\Packages\\PythonSoftwareFoundation.Python.3.12_qbz5n2kfra8p0\\LocalCache\\local-packages\\Python312\\site-packages\\meshio\\_helpers.py:90\u001b[0m, in \u001b[0;36m_read_file\u001b[1;34m(path, file_format)\u001b[0m\n\u001b[0;32m     88\u001b[0m \u001b[38;5;28;01mdef\u001b[39;00m \u001b[38;5;21m_read_file\u001b[39m(path: Path, file_format: \u001b[38;5;28mstr\u001b[39m \u001b[38;5;241m|\u001b[39m \u001b[38;5;28;01mNone\u001b[39;00m):\n\u001b[0;32m     89\u001b[0m     \u001b[38;5;28;01mif\u001b[39;00m \u001b[38;5;129;01mnot\u001b[39;00m path\u001b[38;5;241m.\u001b[39mexists():\n\u001b[1;32m---> 90\u001b[0m         \u001b[38;5;28;01mraise\u001b[39;00m ReadError(\u001b[38;5;124mf\u001b[39m\u001b[38;5;124m\"\u001b[39m\u001b[38;5;124mFile \u001b[39m\u001b[38;5;132;01m{\u001b[39;00mpath\u001b[38;5;132;01m}\u001b[39;00m\u001b[38;5;124m not found.\u001b[39m\u001b[38;5;124m\"\u001b[39m)\n\u001b[0;32m     92\u001b[0m     \u001b[38;5;28;01mif\u001b[39;00m file_format:\n\u001b[0;32m     93\u001b[0m         possible_file_formats \u001b[38;5;241m=\u001b[39m [file_format]\n",
      "\u001b[1;31mReadError\u001b[0m: File \\\\wsl.localhost\\Ubuntu-22.04\\home\\antoine\\ServerIPC\\notebooks\\surfaces\\..\\meshes\\Cube.001.msh not found."
     ]
    }
   ],
   "source": [
    "mesh = meshio.read(os.path.join(os.getcwd(), '../meshes/Cube.001.msh'))"
   ]
  },
  {
   "cell_type": "code",
   "execution_count": 15,
   "metadata": {},
   "outputs": [
    {
     "name": "stdout",
     "output_type": "stream",
     "text": [
      "Total surface faces: 1514\n",
      "First 10 Surface faces: [(9, 635, 712), (9, 635, 744), (16, 642, 722), (140, 164, 166), (61, 62, 65), (52, 53, 420), (269, 290, 291), (296, 299, 309), (230, 231, 234), (143, 169, 758)]\n"
     ]
    }
   ],
   "source": [
    "# Check if the mesh contains tetrahedral cells\n",
    "if \"tetra\" in mesh.cells_dict:\n",
    "    tetrahedra = mesh.cells_dict[\"tetra\"]\n",
    "\n",
    "    # Extract all faces from tetrahedra\n",
    "    all_faces = []\n",
    "    for tet in tetrahedra:\n",
    "        # Each tetrahedron has 4 faces\n",
    "        all_faces.extend([\n",
    "            tuple(sorted([tet[0], tet[1], tet[2]])),  # Face 1\n",
    "            tuple(sorted([tet[0], tet[1], tet[3]])),  # Face 2\n",
    "            tuple(sorted([tet[0], tet[2], tet[3]])),  # Face 3\n",
    "            tuple(sorted([tet[1], tet[2], tet[3]])),  # Face 4\n",
    "        ])\n",
    "\n",
    "    # Count the occurrences of each face\n",
    "    face_counts = Counter(all_faces)\n",
    "\n",
    "    # Surface faces are those that appear only once\n",
    "    surface_faces = [face for face, count in face_counts.items() if count == 1]\n",
    "\n",
    "    print(f\"Total surface faces: {len(surface_faces)}\")\n",
    "    # Optionally, print the first few surface faces to verify\n",
    "    print(\"First 10 Surface faces:\", surface_faces[:10])\n",
    "\n",
    "    # Initialize Polyscope\n",
    "    ps.init()\n",
    "\n",
    "    # Extract vertex positions\n",
    "    vertices = mesh.points\n",
    "\n",
    "    # Convert surface_faces to a NumPy array\n",
    "    surface_faces_array = np.array(surface_faces)\n",
    "\n",
    "    # Register the surface mesh with Polyscope\n",
    "    ps_mesh = ps.register_surface_mesh(\"Surface Mesh\", vertices, surface_faces_array)\n",
    "\n",
    "    # (Optional) Customize the appearance\n",
    "    ps_mesh.set_color([0.7, 0.7, 0.7])  # Set mesh color to light gray\n",
    "\n",
    "    # Show the Polyscope interface\n",
    "    ps.show()\n",
    "else:\n",
    "    print(\"The mesh does not contain tetrahedral cells.\")"
   ]
  },
  {
   "cell_type": "code",
   "execution_count": null,
   "metadata": {},
   "outputs": [],
   "source": []
  },
  {
   "cell_type": "code",
   "execution_count": null,
   "metadata": {},
   "outputs": [],
   "source": []
  },
  {
   "cell_type": "code",
   "execution_count": null,
   "metadata": {},
   "outputs": [],
   "source": []
  }
 ],
 "metadata": {
  "kernelspec": {
   "display_name": "Python 3",
   "language": "python",
   "name": "python3"
  },
  "language_info": {
   "codemirror_mode": {
    "name": "ipython",
    "version": 3
   },
   "file_extension": ".py",
   "mimetype": "text/x-python",
   "name": "python",
   "nbconvert_exporter": "python",
   "pygments_lexer": "ipython3",
   "version": "3.12.7"
  }
 },
 "nbformat": 4,
 "nbformat_minor": 2
}
