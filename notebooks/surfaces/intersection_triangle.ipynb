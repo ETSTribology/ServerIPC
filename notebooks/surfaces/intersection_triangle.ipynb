{
 "cells": [
  {
   "cell_type": "code",
   "execution_count": null,
   "metadata": {},
   "outputs": [],
   "source": [
    "import trimesh\n",
    "import numpy as np\n",
    "\n",
    "def calculate_contact_area(mesh1, mesh2):\n",
    "    \"\"\"\n",
    "    Calculate the contact area between two triangle meshes.\n",
    "    \n",
    "    Args:\n",
    "        mesh1: The first triangle mesh (trimesh.Trimesh).\n",
    "        mesh2: The second triangle mesh (trimesh.Trimesh).\n",
    "    \n",
    "    Returns:\n",
    "        Total contact area (float).\n",
    "    \"\"\"\n",
    "    # Perform a bounding box check to reduce computation\n",
    "    if not mesh1.bounds_intersect(mesh2):\n",
    "        return 0.0\n",
    "\n",
    "    # Get potential intersection triangles\n",
    "    intersection = trimesh.intersections.mesh_mesh(mesh1, mesh2)\n",
    "    if intersection is None or len(intersection) == 0:\n",
    "        return 0.0\n",
    "\n",
    "    # Compute contact polygons and their areas\n",
    "    contact_area = 0.0\n",
    "    for poly in intersection:\n",
    "        # Calculate the area of the polygon formed by the intersection\n",
    "        contact_area += trimesh.path.polygons.area(poly)\n",
    "\n",
    "    return contact_area\n",
    "\n",
    "# Example usage\n",
    "if __name__ == \"__main__\":\n",
    "    # Load two triangle meshes\n",
    "    mesh1 = trimesh.load(\"mesh1.obj\")  # Replace with the path to your mesh file\n",
    "    mesh2 = trimesh.load(\"mesh2.obj\")  # Replace with the path to your mesh file\n",
    "\n",
    "    # Calculate contact area\n",
    "    contact_area = calculate_contact_area(mesh1, mesh2)\n",
    "    print(f\"Total Contact Area: {contact_area:.4f}\")\n"
   ]
  },
  {
   "cell_type": "code",
   "execution_count": null,
   "metadata": {},
   "outputs": [],
   "source": [
    "!pip install trimesh numpy"
   ]
  },
  {
   "cell_type": "code",
   "execution_count": null,
   "metadata": {},
   "outputs": [],
   "source": []
  }
 ],
 "metadata": {
  "kernelspec": {
   "display_name": "Python 3",
   "language": "python",
   "name": "python3"
  },
  "language_info": {
   "name": "python",
   "version": "3.12.8"
  }
 },
 "nbformat": 4,
 "nbformat_minor": 2
}
