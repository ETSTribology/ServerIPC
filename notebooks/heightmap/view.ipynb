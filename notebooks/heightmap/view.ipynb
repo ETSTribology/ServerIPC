{
 "cells": [
  {
   "cell_type": "code",
   "execution_count": 5,
   "metadata": {},
   "outputs": [],
   "source": [
    "import polyscope as ps\n",
    "import meshio\n",
    "import argparse"
   ]
  },
  {
   "cell_type": "code",
   "execution_count": 6,
   "metadata": {},
   "outputs": [],
   "source": [
    "inputs = [\"heightmap_tet.msh\"]"
   ]
  },
  {
   "cell_type": "code",
   "execution_count": 7,
   "metadata": {},
   "outputs": [],
   "source": [
    "if __name__ == \"__main__\":\n",
    "    \n",
    "    ps.set_up_dir(\"z_up\")\n",
    "    ps.set_front_dir(\"neg_y_front\")\n",
    "    ps.set_ground_plane_mode(\"shadow_only\")\n",
    "    ps.init()\n",
    "    for input in inputs:\n",
    "        mesh = meshio.read(input)\n",
    "        if \"tetra\" in mesh.cells_dict:\n",
    "            ps.register_volume_mesh(input, mesh.points, mesh.cells_dict[\"tetra\"])\n",
    "        elif \"triangle\" in mesh.cells_dict:\n",
    "            ps.register_surface_mesh(input, mesh.points, mesh.cells_dict[\"triangle\"])\n",
    "        else:\n",
    "            print(f\"Input mesh {input} not supported\")\n",
    "    ps.show()"
   ]
  },
  {
   "cell_type": "code",
   "execution_count": null,
   "metadata": {},
   "outputs": [],
   "source": []
  }
 ],
 "metadata": {
  "kernelspec": {
   "display_name": "Python 3",
   "language": "python",
   "name": "python3"
  },
  "language_info": {
   "codemirror_mode": {
    "name": "ipython",
    "version": 3
   },
   "file_extension": ".py",
   "mimetype": "text/x-python",
   "name": "python",
   "nbconvert_exporter": "python",
   "pygments_lexer": "ipython3",
   "version": "3.12.4"
  }
 },
 "nbformat": 4,
 "nbformat_minor": 2
}
