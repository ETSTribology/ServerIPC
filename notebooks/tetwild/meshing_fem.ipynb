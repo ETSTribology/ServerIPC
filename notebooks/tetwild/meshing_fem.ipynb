{
 "cells": [
  {
   "cell_type": "code",
   "execution_count": null,
   "metadata": {},
   "outputs": [],
   "source": [
    "import os\n",
    "import subprocess"
   ]
  },
  {
   "cell_type": "code",
   "execution_count": null,
   "metadata": {},
   "outputs": [],
   "source": [
    "def run_tetwild(targeted_num_v=200):\n",
    "    current_dir = os.getcwd()\n",
    "\n",
    "    command = [\n",
    "        \"docker\", \"run\", \"--rm\",\n",
    "        \"-v\", f\"{current_dir}:/data\",\n",
    "        \"yixinhu/tetwild:latest\",\n",
    "        \"--input\", \"/data/Cube.001.stl\",\n",
    "        \"--output\", \"/data/Cube.001.msh\",\n",
    "        \"--targeted-num-v\", str(targeted_num_v),\n",
    "    ]\n",
    "\n",
    "    # Run the command and check for errors\n",
    "    subprocess.run(command, check=True)\n",
    "\n",
    "if __name__ == \"__main__\":\n",
    "    run_tetwild()\n",
    "    print(\"TetWild run completed successfully.\")"
   ]
  }
 ],
 "metadata": {
  "kernelspec": {
   "display_name": "Python 3",
   "language": "python",
   "name": "python3"
  },
  "language_info": {
   "name": "python",
   "version": "3.12.8"
  }
 },
 "nbformat": 4,
 "nbformat_minor": 2
}
