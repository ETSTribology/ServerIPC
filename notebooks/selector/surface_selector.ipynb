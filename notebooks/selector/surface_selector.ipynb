{
 "cells": [
  {
   "cell_type": "code",
   "execution_count": 25,
   "metadata": {},
   "outputs": [],
   "source": [
    "import os\n",
    "from collections import Counter\n",
    "\n",
    "import meshio\n",
    "import networkx as nx\n",
    "import numpy as np\n",
    "import polyscope as ps\n",
    "import polyscope.imgui as psim\n"
   ]
  },
  {
   "cell_type": "code",
   "execution_count": 26,
   "metadata": {},
   "outputs": [],
   "source": [
    "file_path = os.path.join(os.getcwd(), \"../../meshes/plat_tetra.msh\")\n",
    "if not os.path.exists(file_path):\n",
    "    raise FileNotFoundError(f\"Mesh file not found: {file_path}\")"
   ]
  },
  {
   "cell_type": "code",
   "execution_count": 27,
   "metadata": {},
   "outputs": [],
   "source": [
    "\n",
    "# Global transformation parameters\n",
    "scale_factor = 1.0\n",
    "rotation_degrees = [0.0, 0.0, 0.0]  # Rotation around X, Y, Z axes in degrees\n",
    "translation = [0.0, 0.0, 0.0]\n",
    "\n",
    "# Global variables for mesh and surfaces\n",
    "original_points = None\n",
    "original_cells = None\n",
    "transformed_points = None\n",
    "boundary_surfaces = []\n",
    "surface_mesh_names = []\n",
    "selected_surface = -1\n",
    "\n",
    "# Colors\n",
    "DEFAULT_COLOR = [0.8, 0.8, 0.8]\n",
    "SELECTED_COLOR = [1.0, 0.0, 0.0]"
   ]
  },
  {
   "cell_type": "code",
   "execution_count": 28,
   "metadata": {},
   "outputs": [],
   "source": [
    "\n",
    "def load_mesh(file_path):\n",
    "    \"\"\"Load a mesh file using meshio and return its points and cells.\"\"\"\n",
    "    mesh = meshio.read(file_path)\n",
    "    return mesh.points, mesh.cells"
   ]
  },
  {
   "cell_type": "code",
   "execution_count": 29,
   "metadata": {},
   "outputs": [],
   "source": [
    "def extract_boundary_faces(cells):\n",
    "    \"\"\"Extract boundary faces from tetrahedral or triangular meshes.\"\"\"\n",
    "    all_faces = []\n",
    "    for cell_block in cells:\n",
    "        if cell_block.type == \"tetra\":\n",
    "            for c in cell_block.data:\n",
    "                faces = [\n",
    "                    tuple(sorted([c[0], c[1], c[2]])),\n",
    "                    tuple(sorted([c[0], c[1], c[3]])),\n",
    "                    tuple(sorted([c[0], c[2], c[3]])),\n",
    "                    tuple(sorted([c[1], c[2], c[3]])),\n",
    "                ]\n",
    "                all_faces.extend(faces)\n",
    "        elif cell_block.type == \"triangle\":\n",
    "            for c in cell_block.data:\n",
    "                faces = tuple(sorted(c))\n",
    "                all_faces.append(faces)\n",
    "\n",
    "    # Count the occurrences of each face\n",
    "    face_count = Counter(all_faces)\n",
    "    # Boundary faces are those that appear only once\n",
    "    boundary_faces = [f for f, count in face_count.items() if count == 1]\n",
    "    return np.array(boundary_faces)\n"
   ]
  },
  {
   "cell_type": "code",
   "execution_count": 30,
   "metadata": {},
   "outputs": [],
   "source": [
    "def group_boundary_faces(boundary_faces):\n",
    "    \"\"\"Group boundary faces into connected surfaces using networkx.\"\"\"\n",
    "    G = nx.Graph()\n",
    "    num_faces = len(boundary_faces)\n",
    "    G.add_nodes_from(range(num_faces))\n",
    "\n",
    "    # Create a mapping from edges to face indices\n",
    "    edge_to_faces = {}\n",
    "    for i, face in enumerate(boundary_faces):\n",
    "        edges = [\n",
    "            tuple(sorted([face[0], face[1]])),\n",
    "            tuple(sorted([face[1], face[2]])),\n",
    "            tuple(sorted([face[0], face[2]]))\n",
    "        ]\n",
    "        for edge in edges:\n",
    "            if edge not in edge_to_faces:\n",
    "                edge_to_faces[edge] = []\n",
    "            edge_to_faces[edge].append(i)\n",
    "\n",
    "    # Add edges between faces that share a common edge\n",
    "    for edge, faces in edge_to_faces.items():\n",
    "        if len(faces) > 1:\n",
    "            for j in range(len(faces)):\n",
    "                for k in range(j + 1, len(faces)):\n",
    "                    G.add_edge(faces[j], faces[k])\n",
    "\n",
    "    # Identify connected components (surfaces)\n",
    "    surfaces = list(nx.connected_components(G))\n",
    "    return surfaces"
   ]
  },
  {
   "cell_type": "code",
   "execution_count": 31,
   "metadata": {},
   "outputs": [],
   "source": [
    "def apply_transforms(points):\n",
    "    \"\"\"Apply scaling, rotation, and translation to the points.\"\"\"\n",
    "    p = points * scale_factor\n",
    "    rx, ry, rz = np.radians(rotation_degrees)\n",
    "    # Rotation matrices around X, Y, Z\n",
    "    Rx = np.array([\n",
    "        [1, 0, 0],\n",
    "        [0, np.cos(rx), -np.sin(rx)],\n",
    "        [0, np.sin(rx), np.cos(rx)]\n",
    "    ])\n",
    "    Ry = np.array([\n",
    "        [np.cos(ry), 0, np.sin(ry)],\n",
    "        [0, 1, 0],\n",
    "        [-np.sin(ry), 0, np.cos(ry)]\n",
    "    ])\n",
    "    Rz = np.array([\n",
    "        [np.cos(rz), -np.sin(rz), 0],\n",
    "        [np.sin(rz), np.cos(rz), 0],\n",
    "        [0, 0, 1]\n",
    "    ])\n",
    "    # Combined rotation\n",
    "    R = Rz @ Ry @ Rx\n",
    "    p = p @ R.T\n",
    "    # Translation\n",
    "    p += translation\n",
    "    return p"
   ]
  },
  {
   "cell_type": "code",
   "execution_count": 32,
   "metadata": {},
   "outputs": [],
   "source": [
    "def register_surface_meshes(surfaces, boundary_faces, transformed_points):\n",
    "    \"\"\"Register each surface as a separate mesh in Polyscope.\"\"\"\n",
    "    global boundary_surfaces, surface_mesh_names\n",
    "    boundary_surfaces = surfaces\n",
    "    surface_mesh_names = []\n",
    "\n",
    "    for i, surface in enumerate(boundary_surfaces):\n",
    "        # Extract faces for this surface\n",
    "        surface_faces = boundary_faces[list(surface)]\n",
    "        # Get unique vertices and remap face indices\n",
    "        unique_vertices, inverse_indices = np.unique(surface_faces, return_inverse=True)\n",
    "        surface_points = transformed_points[unique_vertices]\n",
    "        surface_faces_unique = inverse_indices.reshape(-1, 3)\n",
    "        # Define mesh name\n",
    "        mesh_name = f\"Surface {i+1}\"\n",
    "        # Register the surface mesh, initially hidden\n",
    "        ps.register_surface_mesh(mesh_name, surface_points, surface_faces_unique,\n",
    "                                 color=DEFAULT_COLOR, smooth_shade=True, enabled=False)\n",
    "        surface_mesh_names.append(mesh_name)\n"
   ]
  },
  {
   "cell_type": "code",
   "execution_count": 33,
   "metadata": {},
   "outputs": [],
   "source": [
    "def update_selected_surface():\n",
    "    \"\"\"Update the visibility and color of surfaces based on the selected_surface index.\"\"\"\n",
    "    for i, mesh_name in enumerate(surface_mesh_names):\n",
    "        if i == selected_surface:\n",
    "            ps.get_surface_mesh(mesh_name).set_enabled(True)\n",
    "            ps.get_surface_mesh(mesh_name).set_color(SELECTED_COLOR)\n",
    "        else:\n",
    "            ps.get_surface_mesh(mesh_name).set_enabled(False)\n",
    "            ps.get_surface_mesh(mesh_name).set_color(DEFAULT_COLOR)"
   ]
  },
  {
   "cell_type": "code",
   "execution_count": 34,
   "metadata": {},
   "outputs": [],
   "source": [
    "def user_callback():\n",
    "    \"\"\"Polyscope UI for user interaction: Surface Selector.\"\"\"\n",
    "    global selected_surface\n",
    "\n",
    "    if boundary_surfaces:\n",
    "        # Create a list of surface names\n",
    "        surface_names = [f\"Surface {i+1}\" for i in range(len(boundary_surfaces))]\n",
    "        # Current selection index\n",
    "        current_selection = selected_surface if selected_surface >= 0 else -1\n",
    "\n",
    "        # Dropdown menu for selecting surfaces\n",
    "        changed, new_selection = psim.Combo(\"Select Surface\", current_selection, surface_names, 5)\n",
    "        if changed:\n",
    "            selected_surface = new_selection\n",
    "            update_selected_surface()\n",
    "\n",
    "        # Reset Selection Button\n",
    "        if psim.Button(\"Reset Selection\"):\n",
    "            selected_surface = -1\n",
    "            # Reset all surfaces to default state\n",
    "            for mesh_name in surface_mesh_names:\n",
    "                ps.get_surface_mesh(mesh_name).set_enabled(False)\n",
    "                ps.get_surface_mesh(mesh_name).set_color(DEFAULT_COLOR)\n",
    "    else:\n",
    "        psim.Text(\"No boundary surfaces available for selection.\")"
   ]
  },
  {
   "cell_type": "code",
   "execution_count": 35,
   "metadata": {},
   "outputs": [],
   "source": [
    "def main():\n",
    "    global original_points, original_cells, transformed_points, boundary_surfaces, surface_mesh_names, selected_surface\n",
    "\n",
    "    # Load mesh\n",
    "    original_points, original_cells = load_mesh(file_path)\n",
    "\n",
    "    # Apply initial transformations\n",
    "    transformed_points = apply_transforms(original_points)\n",
    "\n",
    "    # Initialize Polyscope\n",
    "    ps.init()\n",
    "    ps.set_navigation_style(\"turntable\")\n",
    "\n",
    "    # Extract boundary faces\n",
    "    boundary_faces = extract_boundary_faces(original_cells)\n",
    "\n",
    "    # Register the original mesh\n",
    "    ps.register_surface_mesh(\"Original Mesh\", transformed_points, boundary_faces, smooth_shade=True)\n",
    "\n",
    "    # Group boundary faces into surfaces\n",
    "    surfaces = group_boundary_faces(boundary_faces)\n",
    "\n",
    "    # Register each surface as a separate mesh\n",
    "    register_surface_meshes(surfaces, boundary_faces, transformed_points)\n",
    "\n",
    "    # Set the user callback for GUI interactions\n",
    "    ps.set_user_callback(user_callback)\n",
    "\n",
    "    # Show the Polyscope window\n",
    "    ps.show()"
   ]
  },
  {
   "cell_type": "code",
   "execution_count": 36,
   "metadata": {},
   "outputs": [
    {
     "name": "stdout",
     "output_type": "stream",
     "text": [
      "\n"
     ]
    }
   ],
   "source": [
    "if __name__ == \"__main__\":\n",
    "    main()"
   ]
  }
 ],
 "metadata": {
  "kernelspec": {
   "display_name": "Python 3",
   "language": "python",
   "name": "python3"
  },
  "language_info": {
   "codemirror_mode": {
    "name": "ipython",
    "version": 3
   },
   "file_extension": ".py",
   "mimetype": "text/x-python",
   "name": "python",
   "nbconvert_exporter": "python",
   "pygments_lexer": "ipython3",
   "version": "3.12.4"
  }
 },
 "nbformat": 4,
 "nbformat_minor": 2
}
