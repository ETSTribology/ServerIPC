{
 "cells": [
  {
   "cell_type": "code",
   "execution_count": 6,
   "metadata": {
    "id": "WDnc99dRod5-"
   },
   "outputs": [],
   "source": [
    "import time\n",
    "\n",
    "import matplotlib.pyplot as plt\n",
    "import numpy as np\n",
    "from scipy.linalg import solve\n",
    "from scipy.sparse.linalg import cg"
   ]
  },
  {
   "cell_type": "code",
   "execution_count": 4,
   "metadata": {
    "id": "yKaReUN-plKU"
   },
   "outputs": [],
   "source": [
    "def chebyshev_solver(A, b, x0, max_iter=100, rho=None):\n",
    "    # Step 1: Initializations\n",
    "    x = x0.copy()\n",
    "    r = b - A @ x\n",
    "\n",
    "    # Estimate rho if not provided\n",
    "    if rho is None:\n",
    "        # Simple power method to estimate the spectral radius\n",
    "        z = np.random.rand(len(x))\n",
    "        for _ in range(10):\n",
    "            z = A @ z\n",
    "            rho = np.linalg.norm(z) / np.linalg.norm(z / np.linalg.norm(z))\n",
    "\n",
    "    # Chebyshev coefficients\n",
    "    d = (2 - rho**2) / 2\n",
    "    omega = 1\n",
    "\n",
    "    # Step 2: Iterations\n",
    "    for k in range(max_iter):\n",
    "        # Calculate the next iterate\n",
    "        if k == 0:\n",
    "            x_new = x + d * r\n",
    "        else:\n",
    "            omega_new = 4 / (4 - rho**2 * omega)\n",
    "            x_new = x + omega_new * d * r + (1 - omega_new) * (x - x_prev)\n",
    "            omega = omega_new\n",
    "\n",
    "        # Update previous solution and residual\n",
    "        x_prev = x\n",
    "        x = x_new\n",
    "        r = b - A @ x\n",
    "\n",
    "        # Check for convergence\n",
    "        if np.linalg.norm(r) < 1e-8:\n",
    "            break\n",
    "\n",
    "    return x"
   ]
  },
  {
   "cell_type": "code",
   "execution_count": null,
   "metadata": {
    "colab": {
     "base_uri": "https://localhost:8080/"
    },
    "id": "g1Uebt1JpmWR",
    "outputId": "e122a5d7-df6d-415e-adf3-f66294779d5d"
   },
   "outputs": [
    {
     "name": "stderr",
     "output_type": "stream",
     "text": [
      "<ipython-input-4-d0043a41075b>:25: RuntimeWarning: overflow encountered in multiply\n",
      "  x_new = x + omega_new * d * r + (1 - omega_new) * (x - x_prev)\n",
      "<ipython-input-4-d0043a41075b>:25: RuntimeWarning: invalid value encountered in add\n",
      "  x_new = x + omega_new * d * r + (1 - omega_new) * (x - x_prev)\n",
      "<ipython-input-4-d0043a41075b>:31: RuntimeWarning: overflow encountered in matmul\n",
      "  r = b - A @ x\n",
      "<ipython-input-4-d0043a41075b>:25: RuntimeWarning: invalid value encountered in subtract\n",
      "  x_new = x + omega_new * d * r + (1 - omega_new) * (x - x_prev)\n"
     ]
    }
   ],
   "source": [
    "def test_solvers(sizes):\n",
    "    chebyshev_times = []\n",
    "    scipy_direct_times = []\n",
    "    scipy_cg_times = []\n",
    "\n",
    "    for size in sizes:\n",
    "        # Generate a symmetric positive definite matrix A and vector b\n",
    "        A = np.random.rand(size, size)\n",
    "        A = A + A.T + size * np.eye(size)  # Ensuring positive definiteness\n",
    "        b = np.random.rand(size)\n",
    "        x0 = np.zeros_like(b)\n",
    "\n",
    "        # Time Chebyshev solver\n",
    "        start_time = time.time()\n",
    "        try:\n",
    "            chebyshev_solver(A, b, x0, max_iter=100)\n",
    "        except:\n",
    "            pass\n",
    "        chebyshev_time = time.time() - start_time\n",
    "        chebyshev_times.append(chebyshev_time)\n",
    "\n",
    "        # Time scipy direct solver\n",
    "        start_time = time.time()\n",
    "        solve(A, b)\n",
    "        scipy_direct_time = time.time() - start_time\n",
    "        scipy_direct_times.append(scipy_direct_time)\n",
    "\n",
    "        # Time scipy CG solver\n",
    "        start_time = time.time()\n",
    "        cg(A, b, x0=x0, maxiter=100)\n",
    "        scipy_cg_time = time.time() - start_time\n",
    "        scipy_cg_times.append(scipy_cg_time)\n",
    "\n",
    "    return chebyshev_times, scipy_direct_times, scipy_cg_times\n",
    "\n",
    "# Test the solvers on matrix sizes ranging from 2 to 100\n",
    "sizes = np.arange(2, 10001, 10)\n",
    "chebyshev_times, scipy_direct_times, scipy_cg_times = test_solvers(sizes)\n",
    "\n",
    "# Plot the results\n",
    "plt.figure(figsize=(10, 6))\n",
    "plt.plot(sizes, chebyshev_times, label='Chebyshev Solver')\n",
    "plt.plot(sizes, scipy_direct_times, label='Scipy Direct Solver')\n",
    "plt.plot(sizes, scipy_cg_times, label='Scipy CG Solver')\n",
    "plt.xlabel('Matrix Size')\n",
    "plt.ylabel('Time (seconds)')\n",
    "plt.title('Solver Performance Comparison')\n",
    "plt.legend()\n",
    "plt.grid(True)\n",
    "plt.show()"
   ]
  },
  {
   "cell_type": "code",
   "execution_count": null,
   "metadata": {
    "id": "cuKoH7s3qXN7"
   },
   "outputs": [],
   "source": []
  }
 ],
 "metadata": {
  "colab": {
   "provenance": []
  },
  "kernelspec": {
   "display_name": "Python 3",
   "name": "python3"
  },
  "language_info": {
   "name": "python"
  }
 },
 "nbformat": 4,
 "nbformat_minor": 0
}
